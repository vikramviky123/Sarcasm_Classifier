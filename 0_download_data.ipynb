{
 "cells": [
  {
   "cell_type": "code",
   "execution_count": 2,
   "metadata": {},
   "outputs": [],
   "source": [
    "import os\n",
    "import sys\n",
    "from pathlib import Path\n",
    "\n",
    "import zipfile\n",
    "import requests"
   ]
  },
  {
   "cell_type": "code",
   "execution_count": 3,
   "metadata": {},
   "outputs": [],
   "source": [
    "url = 'https://storage.googleapis.com/tensorflow-1-public/course3/sarcasm.json'"
   ]
  },
  {
   "cell_type": "code",
   "execution_count": 4,
   "metadata": {},
   "outputs": [],
   "source": [
    "save_path = Path(\"data/sarcasm/sarcasm.json\")"
   ]
  },
  {
   "cell_type": "code",
   "execution_count": 7,
   "metadata": {},
   "outputs": [],
   "source": [
    "def download_zip_file(url: str, save_path: Path) -> None:\n",
    "    \"\"\"\n",
    "    Download a ZIP file from the specified URL and save it to the given path.\n",
    "\n",
    "    Args:\n",
    "        url (str): The URL of the ZIP file.\n",
    "        save_path (Path): The path where the downloaded file will be saved.\n",
    "\n",
    "    Returns:\n",
    "        None: The function does not return any value.\n",
    "    \"\"\"\n",
    "    response = requests.get(url)\n",
    "\n",
    "    file_dir, file_name = os.path.split(save_path)\n",
    "\n",
    "    os.makedirs(file_dir, exist_ok=True)\n",
    "\n",
    "    # Check if the request was successful (status code 200)\n",
    "    if response.status_code == 200:\n",
    "        with open(save_path, 'wb') as file:\n",
    "            file.write(response.content)\n",
    "        print(f\"Download successful. File saved at {save_path}\")\n",
    "    else:\n",
    "        print(f\"Error {response.status_code}: Unable to download the file.\")\n",
    "\n",
    "\n",
    "def extract_zip_file(zip_file_path: Path, extract_path: Path) -> None:\n",
    "    \"\"\"\n",
    "    Extract a ZIP file to the specified path.\n",
    "\n",
    "    Args:\n",
    "        zip_file_path (Path): The path to the ZIP file.\n",
    "        extract_path (Path): The path where the contents of the ZIP file will be extracted.\n",
    "\n",
    "    Returns:\n",
    "        None: The function does not return any value.\n",
    "    \"\"\"\n",
    "    file_dir, file_name = os.path.split(extract_path)\n",
    "    os.makedirs(file_dir, exist_ok=True)\n",
    "\n",
    "    with zipfile.ZipFile(zip_file_path, 'r') as zip_ref:\n",
    "        zip_ref.extractall(extract_path)\n",
    "    print(f\"Extraction successful. Files extracted to {extract_path}\")"
   ]
  },
  {
   "cell_type": "code",
   "execution_count": 8,
   "metadata": {},
   "outputs": [
    {
     "name": "stdout",
     "output_type": "stream",
     "text": [
      "Download successful. File saved at data\\sarcasm\\sarcasm.json\n"
     ]
    }
   ],
   "source": [
    "download_zip_file(url, save_path)"
   ]
  },
  {
   "cell_type": "code",
   "execution_count": null,
   "metadata": {},
   "outputs": [],
   "source": []
  }
 ],
 "metadata": {
  "kernelspec": {
   "display_name": "base",
   "language": "python",
   "name": "python3"
  },
  "language_info": {
   "codemirror_mode": {
    "name": "ipython",
    "version": 3
   },
   "file_extension": ".py",
   "mimetype": "text/x-python",
   "name": "python",
   "nbconvert_exporter": "python",
   "pygments_lexer": "ipython3",
   "version": "3.11.5"
  }
 },
 "nbformat": 4,
 "nbformat_minor": 2
}
