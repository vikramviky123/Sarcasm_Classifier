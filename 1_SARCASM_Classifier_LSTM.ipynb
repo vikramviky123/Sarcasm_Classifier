{
 "cells": [
  {
   "cell_type": "code",
   "execution_count": 1,
   "metadata": {},
   "outputs": [],
   "source": [
    "import os\n",
    "import sys\n",
    "from pathlib import Path\n",
    "\n",
    "import pandas as pd\n",
    "import numpy as np\n",
    "\n",
    "import re\n",
    "from typing import *\n",
    "\n",
    "import nltk\n",
    "from nltk.corpus import stopwords\n",
    "from nltk.stem.porter import PorterStemmer\n",
    "from nltk.stem import WordNetLemmatizer\n"
   ]
  },
  {
   "cell_type": "markdown",
   "metadata": {},
   "source": [
    "### 1.Reading the data"
   ]
  },
  {
   "cell_type": "code",
   "execution_count": 2,
   "metadata": {},
   "outputs": [
    {
     "data": {
      "text/html": [
       "<div>\n",
       "<style scoped>\n",
       "    .dataframe tbody tr th:only-of-type {\n",
       "        vertical-align: middle;\n",
       "    }\n",
       "\n",
       "    .dataframe tbody tr th {\n",
       "        vertical-align: top;\n",
       "    }\n",
       "\n",
       "    .dataframe thead th {\n",
       "        text-align: right;\n",
       "    }\n",
       "</style>\n",
       "<table border=\"1\" class=\"dataframe\">\n",
       "  <thead>\n",
       "    <tr style=\"text-align: right;\">\n",
       "      <th></th>\n",
       "      <th>article_link</th>\n",
       "      <th>headline</th>\n",
       "      <th>is_sarcastic</th>\n",
       "    </tr>\n",
       "  </thead>\n",
       "  <tbody>\n",
       "    <tr>\n",
       "      <th>0</th>\n",
       "      <td>https://www.huffingtonpost.com/entry/versace-b...</td>\n",
       "      <td>former versace store clerk sues over secret 'b...</td>\n",
       "      <td>0</td>\n",
       "    </tr>\n",
       "    <tr>\n",
       "      <th>1</th>\n",
       "      <td>https://www.huffingtonpost.com/entry/roseanne-...</td>\n",
       "      <td>the 'roseanne' revival catches up to our thorn...</td>\n",
       "      <td>0</td>\n",
       "    </tr>\n",
       "    <tr>\n",
       "      <th>2</th>\n",
       "      <td>https://local.theonion.com/mom-starting-to-fea...</td>\n",
       "      <td>mom starting to fear son's web series closest ...</td>\n",
       "      <td>1</td>\n",
       "    </tr>\n",
       "    <tr>\n",
       "      <th>3</th>\n",
       "      <td>https://politics.theonion.com/boehner-just-wan...</td>\n",
       "      <td>boehner just wants wife to listen, not come up...</td>\n",
       "      <td>1</td>\n",
       "    </tr>\n",
       "    <tr>\n",
       "      <th>4</th>\n",
       "      <td>https://www.huffingtonpost.com/entry/jk-rowlin...</td>\n",
       "      <td>j.k. rowling wishes snape happy birthday in th...</td>\n",
       "      <td>0</td>\n",
       "    </tr>\n",
       "  </tbody>\n",
       "</table>\n",
       "</div>"
      ],
      "text/plain": [
       "                                        article_link  \\\n",
       "0  https://www.huffingtonpost.com/entry/versace-b...   \n",
       "1  https://www.huffingtonpost.com/entry/roseanne-...   \n",
       "2  https://local.theonion.com/mom-starting-to-fea...   \n",
       "3  https://politics.theonion.com/boehner-just-wan...   \n",
       "4  https://www.huffingtonpost.com/entry/jk-rowlin...   \n",
       "\n",
       "                                            headline  is_sarcastic  \n",
       "0  former versace store clerk sues over secret 'b...             0  \n",
       "1  the 'roseanne' revival catches up to our thorn...             0  \n",
       "2  mom starting to fear son's web series closest ...             1  \n",
       "3  boehner just wants wife to listen, not come up...             1  \n",
       "4  j.k. rowling wishes snape happy birthday in th...             0  "
      ]
     },
     "execution_count": 2,
     "metadata": {},
     "output_type": "execute_result"
    }
   ],
   "source": [
    "data_path = Path(\"data/sarcasm/sarcasm.json\")\n",
    "df = pd.read_json(data_path)\n",
    "df.head()"
   ]
  },
  {
   "cell_type": "code",
   "execution_count": 3,
   "metadata": {},
   "outputs": [
    {
     "name": "stdout",
     "output_type": "stream",
     "text": [
      "<class 'pandas.core.frame.DataFrame'>\n",
      "RangeIndex: 26709 entries, 0 to 26708\n",
      "Data columns (total 3 columns):\n",
      " #   Column        Non-Null Count  Dtype \n",
      "---  ------        --------------  ----- \n",
      " 0   article_link  26709 non-null  object\n",
      " 1   headline      26709 non-null  object\n",
      " 2   is_sarcastic  26709 non-null  int64 \n",
      "dtypes: int64(1), object(2)\n",
      "memory usage: 626.1+ KB\n"
     ]
    }
   ],
   "source": [
    "df.info()"
   ]
  },
  {
   "cell_type": "code",
   "execution_count": 4,
   "metadata": {},
   "outputs": [
    {
     "data": {
      "text/plain": [
       "'https://www.huffingtonpost.com/entry/versace-black-code_us_5861fbefe4b0de3a08f600d5'"
      ]
     },
     "execution_count": 4,
     "metadata": {},
     "output_type": "execute_result"
    }
   ],
   "source": [
    "df['article_link'][0]"
   ]
  },
  {
   "cell_type": "code",
   "execution_count": 5,
   "metadata": {},
   "outputs": [
    {
     "data": {
      "text/html": [
       "<div>\n",
       "<style scoped>\n",
       "    .dataframe tbody tr th:only-of-type {\n",
       "        vertical-align: middle;\n",
       "    }\n",
       "\n",
       "    .dataframe tbody tr th {\n",
       "        vertical-align: top;\n",
       "    }\n",
       "\n",
       "    .dataframe thead th {\n",
       "        text-align: right;\n",
       "    }\n",
       "</style>\n",
       "<table border=\"1\" class=\"dataframe\">\n",
       "  <thead>\n",
       "    <tr style=\"text-align: right;\">\n",
       "      <th></th>\n",
       "      <th>article_link</th>\n",
       "      <th>headline</th>\n",
       "      <th>is_sarcastic</th>\n",
       "      <th>webapp_name</th>\n",
       "    </tr>\n",
       "  </thead>\n",
       "  <tbody>\n",
       "    <tr>\n",
       "      <th>0</th>\n",
       "      <td>https://www.huffingtonpost.com/entry/versace-b...</td>\n",
       "      <td>former versace store clerk sues over secret 'b...</td>\n",
       "      <td>0</td>\n",
       "      <td>huffingtonpost</td>\n",
       "    </tr>\n",
       "    <tr>\n",
       "      <th>1</th>\n",
       "      <td>https://www.huffingtonpost.com/entry/roseanne-...</td>\n",
       "      <td>the 'roseanne' revival catches up to our thorn...</td>\n",
       "      <td>0</td>\n",
       "      <td>huffingtonpost</td>\n",
       "    </tr>\n",
       "    <tr>\n",
       "      <th>2</th>\n",
       "      <td>https://local.theonion.com/mom-starting-to-fea...</td>\n",
       "      <td>mom starting to fear son's web series closest ...</td>\n",
       "      <td>1</td>\n",
       "      <td>theonion</td>\n",
       "    </tr>\n",
       "    <tr>\n",
       "      <th>3</th>\n",
       "      <td>https://politics.theonion.com/boehner-just-wan...</td>\n",
       "      <td>boehner just wants wife to listen, not come up...</td>\n",
       "      <td>1</td>\n",
       "      <td>theonion</td>\n",
       "    </tr>\n",
       "    <tr>\n",
       "      <th>4</th>\n",
       "      <td>https://www.huffingtonpost.com/entry/jk-rowlin...</td>\n",
       "      <td>j.k. rowling wishes snape happy birthday in th...</td>\n",
       "      <td>0</td>\n",
       "      <td>huffingtonpost</td>\n",
       "    </tr>\n",
       "  </tbody>\n",
       "</table>\n",
       "</div>"
      ],
      "text/plain": [
       "                                        article_link  \\\n",
       "0  https://www.huffingtonpost.com/entry/versace-b...   \n",
       "1  https://www.huffingtonpost.com/entry/roseanne-...   \n",
       "2  https://local.theonion.com/mom-starting-to-fea...   \n",
       "3  https://politics.theonion.com/boehner-just-wan...   \n",
       "4  https://www.huffingtonpost.com/entry/jk-rowlin...   \n",
       "\n",
       "                                            headline  is_sarcastic  \\\n",
       "0  former versace store clerk sues over secret 'b...             0   \n",
       "1  the 'roseanne' revival catches up to our thorn...             0   \n",
       "2  mom starting to fear son's web series closest ...             1   \n",
       "3  boehner just wants wife to listen, not come up...             1   \n",
       "4  j.k. rowling wishes snape happy birthday in th...             0   \n",
       "\n",
       "      webapp_name  \n",
       "0  huffingtonpost  \n",
       "1  huffingtonpost  \n",
       "2        theonion  \n",
       "3        theonion  \n",
       "4  huffingtonpost  "
      ]
     },
     "execution_count": 5,
     "metadata": {},
     "output_type": "execute_result"
    }
   ],
   "source": [
    "def webapp_name(x):\n",
    "    return re.findall(r'\\.(.*?)\\.', x)[0]\n",
    "\n",
    "\n",
    "df['webapp_name'] = df['article_link'].apply(webapp_name)\n",
    "df.head()"
   ]
  },
  {
   "cell_type": "code",
   "execution_count": 6,
   "metadata": {},
   "outputs": [
    {
     "data": {
      "text/plain": [
       "webapp_name\n",
       "huffingtonpost    0.561047\n",
       "theonion          0.438953\n",
       "Name: proportion, dtype: float64"
      ]
     },
     "execution_count": 6,
     "metadata": {},
     "output_type": "execute_result"
    }
   ],
   "source": [
    "df['webapp_name'].value_counts(1)"
   ]
  },
  {
   "cell_type": "code",
   "execution_count": 7,
   "metadata": {},
   "outputs": [],
   "source": [
    "# Converting each line to a list\n",
    "sentences = df['headline'].to_list()\n",
    "labels = df['is_sarcastic'].to_list()"
   ]
  },
  {
   "cell_type": "code",
   "execution_count": 8,
   "metadata": {},
   "outputs": [
    {
     "data": {
      "text/plain": [
       "([\"former versace store clerk sues over secret 'black code' for minority shoppers\",\n",
       "  \"the 'roseanne' revival catches up to our thorny political mood, for better and worse\",\n",
       "  \"mom starting to fear son's web series closest thing she will have to grandchild\"],\n",
       " [0, 0, 1])"
      ]
     },
     "execution_count": 8,
     "metadata": {},
     "output_type": "execute_result"
    }
   ],
   "source": [
    "sentences[:3], labels[:3]"
   ]
  },
  {
   "cell_type": "markdown",
   "metadata": {},
   "source": [
    "### 2.Cleaning the Data"
   ]
  },
  {
   "cell_type": "code",
   "execution_count": 9,
   "metadata": {},
   "outputs": [],
   "source": [
    "def clean_data(sentences: List[str]) -> List[str]:\n",
    "    \"\"\"\n",
    "    Perform text cleaning on a list of sentences.\n",
    "\n",
    "    Args:\n",
    "        sentences (List[str]): List of input sentences.\n",
    "\n",
    "    Returns:\n",
    "        List[str]: List of cleaned sentences after applying stemming, lowercasing,\n",
    "                   and removing stopwords.\n",
    "\n",
    "    Note:\n",
    "        This function uses the NLTK library for stemming and stopwords removal.\n",
    "        Make sure to have NLTK installed (`pip install nltk`) and download the\n",
    "        stopwords corpus using `nltk.download('stopwords')`.\n",
    "    \"\"\"\n",
    "    ps = PorterStemmer()\n",
    "    corpus = []\n",
    "\n",
    "    for i in range(len(sentences)):\n",
    "        each_sentence = re.sub('[^a-zA-Z]', ' ', sentences[i])\n",
    "        each_sentence = each_sentence.lower()\n",
    "        each_sentence = each_sentence.split()\n",
    "\n",
    "        each_sentence = [ps.stem(word)\n",
    "                         for word in each_sentence if word not in stopwords.words('english')]\n",
    "        each_sentence = ' '.join(each_sentence)\n",
    "        corpus.append(each_sentence)\n",
    "\n",
    "    return corpus"
   ]
  },
  {
   "cell_type": "markdown",
   "metadata": {},
   "source": [
    "* Each word contains only a to z in alphabets\n",
    "* All stopwords are removed\n",
    "* All words are converted to root word with help of PorterSTemmer"
   ]
  },
  {
   "cell_type": "code",
   "execution_count": 10,
   "metadata": {},
   "outputs": [],
   "source": [
    "clean_sentences = clean_data(sentences)"
   ]
  },
  {
   "cell_type": "code",
   "execution_count": 11,
   "metadata": {},
   "outputs": [
    {
     "data": {
      "text/plain": [
       "['former versac store clerk sue secret black code minor shopper',\n",
       " 'roseann reviv catch thorni polit mood better wors',\n",
       " 'mom start fear son web seri closest thing grandchild']"
      ]
     },
     "execution_count": 11,
     "metadata": {},
     "output_type": "execute_result"
    }
   ],
   "source": [
    "clean_sentences[:3]"
   ]
  },
  {
   "cell_type": "code",
   "execution_count": 12,
   "metadata": {},
   "outputs": [
    {
     "name": "stdout",
     "output_type": "stream",
     "text": [
      "217\n"
     ]
    }
   ],
   "source": [
    "MAX_LENGTH = 0\n",
    "for each_sentence in clean_sentences:\n",
    "    temp_len = len(each_sentence)\n",
    "    if MAX_LENGTH<temp_len:\n",
    "        MAX_LENGTH = temp_len\n",
    "\n",
    "print(MAX_LENGTH)"
   ]
  },
  {
   "cell_type": "markdown",
   "metadata": {},
   "source": [
    "### 3.Train test Split"
   ]
  },
  {
   "cell_type": "code",
   "execution_count": 13,
   "metadata": {},
   "outputs": [],
   "source": [
    "from sklearn.naive_bayes import MultinomialNB\n",
    "from sklearn.model_selection import train_test_split\n",
    "from sklearn.metrics import accuracy_score\n",
    "\n",
    "X_train, X_test, y_train, y_test = train_test_split(\n",
    "    clean_sentences, labels, test_size=0.20, random_state=0, stratify=labels)"
   ]
  },
  {
   "cell_type": "code",
   "execution_count": 14,
   "metadata": {},
   "outputs": [
    {
     "data": {
      "text/plain": [
       "['share hazmat suit maker spike nyc ebola news',\n",
       " 'miss america call u n council promot enough world peac',\n",
       " 'tarsier world smallest primat anim planet looney front part']"
      ]
     },
     "execution_count": 14,
     "metadata": {},
     "output_type": "execute_result"
    }
   ],
   "source": [
    "X_train[:3]"
   ]
  },
  {
   "cell_type": "code",
   "execution_count": 15,
   "metadata": {},
   "outputs": [
    {
     "data": {
      "text/plain": [
       "0    0.561052\n",
       "1    0.438948\n",
       "Name: proportion, dtype: float64"
      ]
     },
     "execution_count": 15,
     "metadata": {},
     "output_type": "execute_result"
    }
   ],
   "source": [
    "pd.Series(y_train).value_counts(1)"
   ]
  },
  {
   "cell_type": "code",
   "execution_count": 16,
   "metadata": {},
   "outputs": [
    {
     "data": {
      "text/plain": [
       "0    0.561026\n",
       "1    0.438974\n",
       "Name: proportion, dtype: float64"
      ]
     },
     "execution_count": 16,
     "metadata": {},
     "output_type": "execute_result"
    }
   ],
   "source": [
    "pd.Series(y_test).value_counts(1)"
   ]
  },
  {
   "cell_type": "markdown",
   "metadata": {},
   "source": [
    "### 4.Tokenization, Sequences and Padding"
   ]
  },
  {
   "cell_type": "code",
   "execution_count": 18,
   "metadata": {},
   "outputs": [],
   "source": [
    "import warnings\n",
    "warnings.filterwarnings('ignore')"
   ]
  },
  {
   "cell_type": "code",
   "execution_count": 19,
   "metadata": {},
   "outputs": [],
   "source": [
    "import numpy as np\n",
    "import pandas as pd\n",
    "\n",
    "import seaborn as sns\n",
    "import matplotlib.pyplot as plt\n",
    "\n",
    "%matplotlib inline\n",
    "\n",
    "import tensorflow as tf\n",
    "from tensorflow.keras.preprocessing.text import Tokenizer\n",
    "from tensorflow.keras.preprocessing.sequence import pad_sequences"
   ]
  },
  {
   "cell_type": "code",
   "execution_count": 20,
   "metadata": {},
   "outputs": [],
   "source": [
    "# Vocabulary size of the tokenizer\n",
    "VOCAB_SIZE = 10000\n",
    "\n",
    "# Maximum length of clean sentence is  217\n",
    "# Giving 50 as the max length including the padded sequences\n",
    "MAX_LENGTH = 50\n",
    "\n",
    "# Output dimensions of the Embedding layer\n",
    "EMBEDDING_DIM = 16\n",
    "\n",
    "# Parameters for padding and OOV tokens\n",
    "TRUNC_TYPE = 'post'\n",
    "PADDING_TYPE = 'post'\n",
    "OOV_TOKEN = \"<OOV>\""
   ]
  },
  {
   "cell_type": "code",
   "execution_count": 21,
   "metadata": {},
   "outputs": [
    {
     "data": {
      "text/plain": [
       "['share hazmat suit maker spike nyc ebola news',\n",
       " 'miss america call u n council promot enough world peac',\n",
       " 'tarsier world smallest primat anim planet looney front part']"
      ]
     },
     "execution_count": 21,
     "metadata": {},
     "output_type": "execute_result"
    }
   ],
   "source": [
    "X_train[:3]"
   ]
  },
  {
   "cell_type": "code",
   "execution_count": 22,
   "metadata": {},
   "outputs": [],
   "source": [
    "def get_tokenizer(VOCAB_SIZE, OOV_TOKEN, X_data=X_train):\n",
    "    # Initialize the Tokenizer class\n",
    "    tokenizer = Tokenizer(num_words=VOCAB_SIZE, oov_token=OOV_TOKEN)\n",
    "\n",
    "    # Generate the word index dictionary\n",
    "    tokenizer.fit_on_texts(X_data)\n",
    "    \n",
    "    return tokenizer\n",
    "\n",
    "def to_sequences_n_padding(tokenizer,MAX_LENGTH,PADDING_TYPE,TRUNC_TYPE,X_data):\n",
    "    # Generate and pad the training sequences\n",
    "    _sequences = tokenizer.texts_to_sequences(X_data)\n",
    "    _padded = pad_sequences(_sequences, \n",
    "                            maxlen=MAX_LENGTH, \n",
    "                            padding=PADDING_TYPE, \n",
    "                            truncating=TRUNC_TYPE)\n",
    "    \n",
    "    return _padded   "
   ]
  },
  {
   "cell_type": "code",
   "execution_count": 23,
   "metadata": {},
   "outputs": [],
   "source": [
    "tokenizer = get_tokenizer(VOCAB_SIZE=VOCAB_SIZE,OOV_TOKEN=OOV_TOKEN)\n",
    "\n",
    "training_padded = to_sequences_n_padding(tokenizer=tokenizer,\n",
    "                                            MAX_LENGTH=MAX_LENGTH,\n",
    "                                            PADDING_TYPE=PADDING_TYPE,\n",
    "                                            TRUNC_TYPE=TRUNC_TYPE,\n",
    "                                            X_data=X_train)\n",
    "testing_padded = to_sequences_n_padding(tokenizer=tokenizer,\n",
    "                                            MAX_LENGTH=MAX_LENGTH,\n",
    "                                            PADDING_TYPE=PADDING_TYPE,\n",
    "                                            TRUNC_TYPE=TRUNC_TYPE,\n",
    "                                            X_data=X_test)"
   ]
  },
  {
   "cell_type": "code",
   "execution_count": 24,
   "metadata": {},
   "outputs": [],
   "source": [
    "# Convert the labels lists into numpy arrays\n",
    "training_labels = np.array(y_train)\n",
    "testing_labels = np.array(y_test)"
   ]
  },
  {
   "cell_type": "code",
   "execution_count": 25,
   "metadata": {},
   "outputs": [
    {
     "data": {
      "text/plain": [
       "(21367, 50)"
      ]
     },
     "execution_count": 25,
     "metadata": {},
     "output_type": "execute_result"
    }
   ],
   "source": [
    "training_padded.shape"
   ]
  },
  {
   "cell_type": "code",
   "execution_count": 26,
   "metadata": {},
   "outputs": [
    {
     "data": {
      "text/plain": [
       "(5342, 50)"
      ]
     },
     "execution_count": 26,
     "metadata": {},
     "output_type": "execute_result"
    }
   ],
   "source": [
    "testing_padded.shape"
   ]
  },
  {
   "cell_type": "markdown",
   "metadata": {},
   "source": [
    "### 5. Dataset Preparation"
   ]
  },
  {
   "cell_type": "code",
   "execution_count": 27,
   "metadata": {},
   "outputs": [],
   "source": [
    "train_dataset = tf.data.Dataset.from_tensor_slices(\n",
    "    (training_padded, training_labels))\n",
    "train_dataset = (train_dataset\n",
    "                 .shuffle(buffer_size=8, reshuffle_each_iteration=True)\n",
    "                 .batch(32)\n",
    "                 .prefetch(tf.data.AUTOTUNE))"
   ]
  },
  {
   "cell_type": "code",
   "execution_count": 28,
   "metadata": {},
   "outputs": [],
   "source": [
    "test_dataset = tf.data.Dataset.from_tensor_slices(\n",
    "    (testing_padded, testing_labels))\n",
    "test_dataset = (test_dataset\n",
    "                .shuffle(buffer_size=8, reshuffle_each_iteration=True)\n",
    "                .batch(32)\n",
    "                .prefetch(tf.data.AUTOTUNE))"
   ]
  },
  {
   "cell_type": "markdown",
   "metadata": {},
   "source": [
    "### 6. LSTM +BIDIRECTIONAL"
   ]
  },
  {
   "cell_type": "markdown",
   "metadata": {},
   "source": [
    "##### Callbacks"
   ]
  },
  {
   "cell_type": "code",
   "execution_count": 30,
   "metadata": {},
   "outputs": [],
   "source": [
    "early_stopping = tf.keras.callbacks.EarlyStopping(\n",
    "    monitor='val_loss',\n",
    "    min_delta=0.0001,\n",
    "    patience=5,\n",
    "    verbose=0,\n",
    "    mode='auto',\n",
    "    # baseline=None,\n",
    "    restore_best_weights=True,\n",
    "    # start_from_epoch=0\n",
    ")\n",
    "\n",
    "# Saving the best model and its weights to given path\n",
    "checkpoint_filepath = 'models/model_checkpoint_LSTM.h5'\n",
    "model_checkpoint_callback = tf.keras.callbacks.ModelCheckpoint(\n",
    "    filepath=checkpoint_filepath,\n",
    "    verbose=1,\n",
    "    # save_weights_only=True,\n",
    "    save_best_only=True,\n",
    "    monitor='val_loss',\n",
    "    mode='auto'\n",
    ")"
   ]
  },
  {
   "cell_type": "markdown",
   "metadata": {},
   "source": [
    "##### Model Training"
   ]
  },
  {
   "cell_type": "code",
   "execution_count": 34,
   "metadata": {},
   "outputs": [],
   "source": [
    "import warnings\n",
    "warnings.filterwarnings('ignore')"
   ]
  },
  {
   "cell_type": "code",
   "execution_count": 35,
   "metadata": {},
   "outputs": [
    {
     "name": "stdout",
     "output_type": "stream",
     "text": [
      "Model: \"sequential_1\"\n",
      "_________________________________________________________________\n",
      " Layer (type)                Output Shape              Param #   \n",
      "=================================================================\n",
      " embedding (Embedding)       (None, 50, 16)            160000    \n",
      "                                                                 \n",
      " bidirectional_2 (Bidirecti  (None, 50, 60)            11280     \n",
      " onal)                                                           \n",
      "                                                                 \n",
      " bidirectional_3 (Bidirecti  (None, 100)               44400     \n",
      " onal)                                                           \n",
      "                                                                 \n",
      " dense32 (Dense)             (None, 120)               12120     \n",
      "                                                                 \n",
      " batch1 (BatchNormalization  (None, 120)               480       \n",
      " )                                                               \n",
      "                                                                 \n",
      " dropout1 (Dropout)          (None, 120)               0         \n",
      "                                                                 \n",
      " dense16 (Dense)             (None, 80)                9680      \n",
      "                                                                 \n",
      " batch2 (BatchNormalization  (None, 80)                320       \n",
      " )                                                               \n",
      "                                                                 \n",
      " dropout2 (Dropout)          (None, 80)                0         \n",
      "                                                                 \n",
      " last_dense1 (Dense)         (None, 1)                 81        \n",
      "                                                                 \n",
      "=================================================================\n",
      "Total params: 238361 (931.10 KB)\n",
      "Trainable params: 237961 (929.54 KB)\n",
      "Non-trainable params: 400 (1.56 KB)\n",
      "_________________________________________________________________\n"
     ]
    }
   ],
   "source": [
    "# Build the model\n",
    "model = tf.keras.Sequential([\n",
    "    tf.keras.layers.Embedding(\n",
    "        VOCAB_SIZE, EMBEDDING_DIM, input_length=MAX_LENGTH, name=\"embedding\"),\n",
    "    tf.keras.layers.Bidirectional(tf.keras.layers.LSTM(30, name=\"rnn1_30\", return_sequences=True)),\n",
    "    tf.keras.layers.Bidirectional(tf.keras.layers.LSTM(50, name=\"rnn2_50\", return_sequences=False)),\n",
    "\n",
    "    # tf.keras.layers.Flatten(),\n",
    "\n",
    "    tf.keras.layers.Dense(120, activation='relu', name=\"dense32\"),\n",
    "    tf.keras.layers.BatchNormalization(name=\"batch1\"),\n",
    "    tf.keras.layers.Dropout(0.5, name=\"dropout1\"),\n",
    "\n",
    "    tf.keras.layers.Dense(80, activation='relu', name=\"dense16\"),\n",
    "    tf.keras.layers.BatchNormalization(name=\"batch2\"),\n",
    "    tf.keras.layers.Dropout(0.4, name=\"dropout2\"),\n",
    "\n",
    "\n",
    "    tf.keras.layers.Dense(1, activation='sigmoid', name=\"last_dense1\")\n",
    "])\n",
    "\n",
    "# Print the model summary\n",
    "model.summary()"
   ]
  },
  {
   "cell_type": "code",
   "execution_count": 36,
   "metadata": {},
   "outputs": [],
   "source": [
    "model.compile(optimizer=tf.keras.optimizers.Adam(learning_rate=0.00001),\n",
    "              loss='binary_crossentropy',\n",
    "              metrics=['binary_accuracy'])"
   ]
  },
  {
   "cell_type": "code",
   "execution_count": 37,
   "metadata": {},
   "outputs": [
    {
     "name": "stdout",
     "output_type": "stream",
     "text": [
      "Epoch 1/30\n"
     ]
    },
    {
     "name": "stdout",
     "output_type": "stream",
     "text": [
      "\n",
      "Epoch 1: val_loss did not improve from 0.68567\n",
      "668/668 - 48s - loss: 0.8238 - binary_accuracy: 0.5233 - val_loss: 0.7101 - val_binary_accuracy: 0.5651 - 48s/epoch - 73ms/step\n",
      "Epoch 2/30\n",
      "\n",
      "Epoch 2: val_loss improved from 0.68567 to 0.68352, saving model to models\\model_checkpoint_LSTM.h5\n",
      "668/668 - 31s - loss: 0.7868 - binary_accuracy: 0.5277 - val_loss: 0.6835 - val_binary_accuracy: 0.5839 - 31s/epoch - 46ms/step\n",
      "Epoch 3/30\n",
      "\n",
      "Epoch 3: val_loss improved from 0.68352 to 0.67786, saving model to models\\model_checkpoint_LSTM.h5\n",
      "668/668 - 34s - loss: 0.7649 - binary_accuracy: 0.5347 - val_loss: 0.6779 - val_binary_accuracy: 0.5917 - 34s/epoch - 51ms/step\n",
      "Epoch 4/30\n",
      "\n",
      "Epoch 4: val_loss improved from 0.67786 to 0.66748, saving model to models\\model_checkpoint_LSTM.h5\n",
      "668/668 - 32s - loss: 0.7318 - binary_accuracy: 0.5568 - val_loss: 0.6675 - val_binary_accuracy: 0.5977 - 32s/epoch - 48ms/step\n",
      "Epoch 5/30\n",
      "\n",
      "Epoch 5: val_loss did not improve from 0.66748\n",
      "668/668 - 32s - loss: 0.7211 - binary_accuracy: 0.5577 - val_loss: 0.6704 - val_binary_accuracy: 0.5970 - 32s/epoch - 47ms/step\n",
      "Epoch 6/30\n",
      "\n",
      "Epoch 6: val_loss improved from 0.66748 to 0.66738, saving model to models\\model_checkpoint_LSTM.h5\n",
      "668/668 - 34s - loss: 0.7072 - binary_accuracy: 0.5710 - val_loss: 0.6674 - val_binary_accuracy: 0.6028 - 34s/epoch - 52ms/step\n",
      "Epoch 7/30\n",
      "\n",
      "Epoch 7: val_loss improved from 0.66738 to 0.65878, saving model to models\\model_checkpoint_LSTM.h5\n",
      "668/668 - 35s - loss: 0.6920 - binary_accuracy: 0.5858 - val_loss: 0.6588 - val_binary_accuracy: 0.6131 - 35s/epoch - 52ms/step\n",
      "Epoch 8/30\n",
      "\n",
      "Epoch 8: val_loss improved from 0.65878 to 0.65202, saving model to models\\model_checkpoint_LSTM.h5\n",
      "668/668 - 34s - loss: 0.6841 - binary_accuracy: 0.5897 - val_loss: 0.6520 - val_binary_accuracy: 0.6176 - 34s/epoch - 52ms/step\n",
      "Epoch 9/30\n",
      "\n",
      "Epoch 9: val_loss improved from 0.65202 to 0.65006, saving model to models\\model_checkpoint_LSTM.h5\n",
      "668/668 - 34s - loss: 0.6751 - binary_accuracy: 0.6000 - val_loss: 0.6501 - val_binary_accuracy: 0.6237 - 34s/epoch - 51ms/step\n",
      "Epoch 10/30\n",
      "\n",
      "Epoch 10: val_loss improved from 0.65006 to 0.64390, saving model to models\\model_checkpoint_LSTM.h5\n",
      "668/668 - 39s - loss: 0.6640 - binary_accuracy: 0.6151 - val_loss: 0.6439 - val_binary_accuracy: 0.6282 - 39s/epoch - 58ms/step\n",
      "Epoch 11/30\n",
      "\n",
      "Epoch 11: val_loss improved from 0.64390 to 0.63197, saving model to models\\model_checkpoint_LSTM.h5\n",
      "668/668 - 38s - loss: 0.6522 - binary_accuracy: 0.6291 - val_loss: 0.6320 - val_binary_accuracy: 0.6415 - 38s/epoch - 57ms/step\n",
      "Epoch 12/30\n",
      "\n",
      "Epoch 12: val_loss improved from 0.63197 to 0.62871, saving model to models\\model_checkpoint_LSTM.h5\n",
      "668/668 - 35s - loss: 0.6442 - binary_accuracy: 0.6401 - val_loss: 0.6287 - val_binary_accuracy: 0.6441 - 35s/epoch - 53ms/step\n",
      "Epoch 13/30\n",
      "\n",
      "Epoch 13: val_loss improved from 0.62871 to 0.61811, saving model to models\\model_checkpoint_LSTM.h5\n",
      "668/668 - 33s - loss: 0.6305 - binary_accuracy: 0.6505 - val_loss: 0.6181 - val_binary_accuracy: 0.6557 - 33s/epoch - 50ms/step\n",
      "Epoch 14/30\n",
      "\n",
      "Epoch 14: val_loss improved from 0.61811 to 0.61669, saving model to models\\model_checkpoint_LSTM.h5\n",
      "668/668 - 36s - loss: 0.6159 - binary_accuracy: 0.6664 - val_loss: 0.6167 - val_binary_accuracy: 0.6587 - 36s/epoch - 55ms/step\n",
      "Epoch 15/30\n",
      "\n",
      "Epoch 15: val_loss improved from 0.61669 to 0.61052, saving model to models\\model_checkpoint_LSTM.h5\n",
      "668/668 - 35s - loss: 0.6067 - binary_accuracy: 0.6734 - val_loss: 0.6105 - val_binary_accuracy: 0.6625 - 35s/epoch - 53ms/step\n",
      "Epoch 16/30\n",
      "\n",
      "Epoch 16: val_loss improved from 0.61052 to 0.59915, saving model to models\\model_checkpoint_LSTM.h5\n",
      "668/668 - 34s - loss: 0.5941 - binary_accuracy: 0.6875 - val_loss: 0.5991 - val_binary_accuracy: 0.6752 - 34s/epoch - 51ms/step\n",
      "Epoch 17/30\n",
      "\n",
      "Epoch 17: val_loss improved from 0.59915 to 0.59072, saving model to models\\model_checkpoint_LSTM.h5\n",
      "668/668 - 30s - loss: 0.5849 - binary_accuracy: 0.6967 - val_loss: 0.5907 - val_binary_accuracy: 0.6790 - 30s/epoch - 45ms/step\n",
      "Epoch 18/30\n",
      "\n",
      "Epoch 18: val_loss improved from 0.59072 to 0.58011, saving model to models\\model_checkpoint_LSTM.h5\n",
      "668/668 - 31s - loss: 0.5680 - binary_accuracy: 0.7113 - val_loss: 0.5801 - val_binary_accuracy: 0.6915 - 31s/epoch - 47ms/step\n",
      "Epoch 19/30\n",
      "\n",
      "Epoch 19: val_loss improved from 0.58011 to 0.57372, saving model to models\\model_checkpoint_LSTM.h5\n",
      "668/668 - 31s - loss: 0.5582 - binary_accuracy: 0.7196 - val_loss: 0.5737 - val_binary_accuracy: 0.6951 - 31s/epoch - 47ms/step\n",
      "Epoch 20/30\n",
      "\n",
      "Epoch 20: val_loss improved from 0.57372 to 0.56886, saving model to models\\model_checkpoint_LSTM.h5\n",
      "668/668 - 33s - loss: 0.5445 - binary_accuracy: 0.7304 - val_loss: 0.5689 - val_binary_accuracy: 0.6984 - 33s/epoch - 50ms/step\n",
      "Epoch 21/30\n",
      "\n",
      "Epoch 21: val_loss improved from 0.56886 to 0.55282, saving model to models\\model_checkpoint_LSTM.h5\n",
      "668/668 - 32s - loss: 0.5260 - binary_accuracy: 0.7419 - val_loss: 0.5528 - val_binary_accuracy: 0.7093 - 32s/epoch - 48ms/step\n",
      "Epoch 22/30\n",
      "\n",
      "Epoch 22: val_loss improved from 0.55282 to 0.54829, saving model to models\\model_checkpoint_LSTM.h5\n",
      "668/668 - 34s - loss: 0.5183 - binary_accuracy: 0.7483 - val_loss: 0.5483 - val_binary_accuracy: 0.7158 - 34s/epoch - 51ms/step\n",
      "Epoch 23/30\n",
      "\n",
      "Epoch 23: val_loss did not improve from 0.54829\n",
      "668/668 - 33s - loss: 0.5046 - binary_accuracy: 0.7607 - val_loss: 0.5484 - val_binary_accuracy: 0.7168 - 33s/epoch - 50ms/step\n",
      "Epoch 24/30\n",
      "\n",
      "Epoch 24: val_loss improved from 0.54829 to 0.53243, saving model to models\\model_checkpoint_LSTM.h5\n",
      "668/668 - 35s - loss: 0.4922 - binary_accuracy: 0.7697 - val_loss: 0.5324 - val_binary_accuracy: 0.7284 - 35s/epoch - 52ms/step\n",
      "Epoch 25/30\n",
      "\n",
      "Epoch 25: val_loss improved from 0.53243 to 0.52763, saving model to models\\model_checkpoint_LSTM.h5\n",
      "668/668 - 30s - loss: 0.4822 - binary_accuracy: 0.7766 - val_loss: 0.5276 - val_binary_accuracy: 0.7353 - 30s/epoch - 45ms/step\n",
      "Epoch 26/30\n",
      "\n",
      "Epoch 26: val_loss improved from 0.52763 to 0.52047, saving model to models\\model_checkpoint_LSTM.h5\n",
      "668/668 - 28s - loss: 0.4681 - binary_accuracy: 0.7819 - val_loss: 0.5205 - val_binary_accuracy: 0.7387 - 28s/epoch - 43ms/step\n",
      "Epoch 27/30\n",
      "\n",
      "Epoch 27: val_loss did not improve from 0.52047\n",
      "668/668 - 28s - loss: 0.4567 - binary_accuracy: 0.7923 - val_loss: 0.5213 - val_binary_accuracy: 0.7405 - 28s/epoch - 42ms/step\n",
      "Epoch 28/30\n",
      "\n",
      "Epoch 28: val_loss improved from 0.52047 to 0.51301, saving model to models\\model_checkpoint_LSTM.h5\n",
      "668/668 - 30s - loss: 0.4449 - binary_accuracy: 0.8000 - val_loss: 0.5130 - val_binary_accuracy: 0.7439 - 30s/epoch - 44ms/step\n",
      "Epoch 29/30\n",
      "\n",
      "Epoch 29: val_loss improved from 0.51301 to 0.50804, saving model to models\\model_checkpoint_LSTM.h5\n",
      "668/668 - 38s - loss: 0.4346 - binary_accuracy: 0.8060 - val_loss: 0.5080 - val_binary_accuracy: 0.7495 - 38s/epoch - 57ms/step\n",
      "Epoch 30/30\n",
      "\n",
      "Epoch 30: val_loss improved from 0.50804 to 0.50657, saving model to models\\model_checkpoint_LSTM.h5\n",
      "668/668 - 39s - loss: 0.4228 - binary_accuracy: 0.8167 - val_loss: 0.5066 - val_binary_accuracy: 0.7559 - 39s/epoch - 58ms/step\n"
     ]
    }
   ],
   "source": [
    "history = model.fit(train_dataset,\n",
    "          validation_data=test_dataset,\n",
    "          epochs=30,\n",
    "          verbose=2,\n",
    "          callbacks=[early_stopping, \n",
    "                     model_checkpoint_callback])"
   ]
  },
  {
   "cell_type": "code",
   "execution_count": 38,
   "metadata": {},
   "outputs": [
    {
     "data": {
      "image/png": "[encoded data removed]",
      "text/plain": [
       "<Figure size 1500x500 with 2 Axes>"
      ]
     },
     "metadata": {},
     "output_type": "display_data"
    }
   ],
   "source": [
    "fig, ax = plt.subplots(1, 2, figsize=(15, 5))\n",
    "\n",
    "ax[0].plot(history.history['loss'], label=\"train_loss\")\n",
    "ax[0].plot(history.history['val_loss'], label=\"val_loss\")\n",
    "ax[0].set_title(\"SCE loss function\")\n",
    "ax[0].legend()\n",
    "\n",
    "ax[1].plot(history.history['binary_accuracy'], label=\"train_acc\")\n",
    "ax[1].plot(history.history['val_binary_accuracy'], label=\"val_acc\")\n",
    "ax[1].set_title(\"Accuracy Metric function\")\n",
    "ax[1].legend()\n",
    "plt.tight_layout()\n",
    "plt.show()"
   ]
  }
 ],
 "metadata": {
  "kernelspec": {
   "display_name": "base",
   "language": "python",
   "name": "python3"
  },
  "language_info": {
   "codemirror_mode": {
    "name": "ipython",
    "version": 3
   },
   "file_extension": ".py",
   "mimetype": "text/x-python",
   "name": "python",
   "nbconvert_exporter": "python",
   "pygments_lexer": "ipython3",
   "version": "3.11.5"
  }
 },
 "nbformat": 4,
 "nbformat_minor": 2
}
