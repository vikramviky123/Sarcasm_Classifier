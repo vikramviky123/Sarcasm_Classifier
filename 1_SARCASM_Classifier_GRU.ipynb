{
 "cells": [
  {
   "cell_type": "code",
   "execution_count": 1,
   "metadata": {},
   "outputs": [],
   "source": [
    "import os\n",
    "import sys\n",
    "from pathlib import Path\n",
    "\n",
    "import pandas as pd\n",
    "import numpy as np\n",
    "\n",
    "import re\n",
    "from typing import *\n",
    "\n",
    "import nltk\n",
    "from nltk.corpus import stopwords\n",
    "from nltk.stem.porter import PorterStemmer\n",
    "from nltk.stem import WordNetLemmatizer\n"
   ]
  },
  {
   "cell_type": "markdown",
   "metadata": {},
   "source": [
    "### 1.Reading the data"
   ]
  },
  {
   "cell_type": "code",
   "execution_count": 2,
   "metadata": {},
   "outputs": [
    {
     "data": {
      "text/html": [
       "<div>\n",
       "<style scoped>\n",
       "    .dataframe tbody tr th:only-of-type {\n",
       "        vertical-align: middle;\n",
       "    }\n",
       "\n",
       "    .dataframe tbody tr th {\n",
       "        vertical-align: top;\n",
       "    }\n",
       "\n",
       "    .dataframe thead th {\n",
       "        text-align: right;\n",
       "    }\n",
       "</style>\n",
       "<table border=\"1\" class=\"dataframe\">\n",
       "  <thead>\n",
       "    <tr style=\"text-align: right;\">\n",
       "      <th></th>\n",
       "      <th>article_link</th>\n",
       "      <th>headline</th>\n",
       "      <th>is_sarcastic</th>\n",
       "    </tr>\n",
       "  </thead>\n",
       "  <tbody>\n",
       "    <tr>\n",
       "      <th>0</th>\n",
       "      <td>https://www.huffingtonpost.com/entry/versace-b...</td>\n",
       "      <td>former versace store clerk sues over secret 'b...</td>\n",
       "      <td>0</td>\n",
       "    </tr>\n",
       "    <tr>\n",
       "      <th>1</th>\n",
       "      <td>https://www.huffingtonpost.com/entry/roseanne-...</td>\n",
       "      <td>the 'roseanne' revival catches up to our thorn...</td>\n",
       "      <td>0</td>\n",
       "    </tr>\n",
       "    <tr>\n",
       "      <th>2</th>\n",
       "      <td>https://local.theonion.com/mom-starting-to-fea...</td>\n",
       "      <td>mom starting to fear son's web series closest ...</td>\n",
       "      <td>1</td>\n",
       "    </tr>\n",
       "    <tr>\n",
       "      <th>3</th>\n",
       "      <td>https://politics.theonion.com/boehner-just-wan...</td>\n",
       "      <td>boehner just wants wife to listen, not come up...</td>\n",
       "      <td>1</td>\n",
       "    </tr>\n",
       "    <tr>\n",
       "      <th>4</th>\n",
       "      <td>https://www.huffingtonpost.com/entry/jk-rowlin...</td>\n",
       "      <td>j.k. rowling wishes snape happy birthday in th...</td>\n",
       "      <td>0</td>\n",
       "    </tr>\n",
       "  </tbody>\n",
       "</table>\n",
       "</div>"
      ],
      "text/plain": [
       "                                        article_link  \\\n",
       "0  https://www.huffingtonpost.com/entry/versace-b...   \n",
       "1  https://www.huffingtonpost.com/entry/roseanne-...   \n",
       "2  https://local.theonion.com/mom-starting-to-fea...   \n",
       "3  https://politics.theonion.com/boehner-just-wan...   \n",
       "4  https://www.huffingtonpost.com/entry/jk-rowlin...   \n",
       "\n",
       "                                            headline  is_sarcastic  \n",
       "0  former versace store clerk sues over secret 'b...             0  \n",
       "1  the 'roseanne' revival catches up to our thorn...             0  \n",
       "2  mom starting to fear son's web series closest ...             1  \n",
       "3  boehner just wants wife to listen, not come up...             1  \n",
       "4  j.k. rowling wishes snape happy birthday in th...             0  "
      ]
     },
     "execution_count": 2,
     "metadata": {},
     "output_type": "execute_result"
    }
   ],
   "source": [
    "data_path = Path(\"data/sarcasm/sarcasm.json\")\n",
    "df = pd.read_json(data_path)\n",
    "df.head()"
   ]
  },
  {
   "cell_type": "code",
   "execution_count": 3,
   "metadata": {},
   "outputs": [
    {
     "name": "stdout",
     "output_type": "stream",
     "text": [
      "<class 'pandas.core.frame.DataFrame'>\n",
      "RangeIndex: 26709 entries, 0 to 26708\n",
      "Data columns (total 3 columns):\n",
      " #   Column        Non-Null Count  Dtype \n",
      "---  ------        --------------  ----- \n",
      " 0   article_link  26709 non-null  object\n",
      " 1   headline      26709 non-null  object\n",
      " 2   is_sarcastic  26709 non-null  int64 \n",
      "dtypes: int64(1), object(2)\n",
      "memory usage: 626.1+ KB\n"
     ]
    }
   ],
   "source": [
    "df.info()"
   ]
  },
  {
   "cell_type": "code",
   "execution_count": 4,
   "metadata": {},
   "outputs": [
    {
     "data": {
      "text/plain": [
       "'https://www.huffingtonpost.com/entry/versace-black-code_us_5861fbefe4b0de3a08f600d5'"
      ]
     },
     "execution_count": 4,
     "metadata": {},
     "output_type": "execute_result"
    }
   ],
   "source": [
    "df['article_link'][0]"
   ]
  },
  {
   "cell_type": "code",
   "execution_count": 5,
   "metadata": {},
   "outputs": [
    {
     "data": {
      "text/html": [
       "<div>\n",
       "<style scoped>\n",
       "    .dataframe tbody tr th:only-of-type {\n",
       "        vertical-align: middle;\n",
       "    }\n",
       "\n",
       "    .dataframe tbody tr th {\n",
       "        vertical-align: top;\n",
       "    }\n",
       "\n",
       "    .dataframe thead th {\n",
       "        text-align: right;\n",
       "    }\n",
       "</style>\n",
       "<table border=\"1\" class=\"dataframe\">\n",
       "  <thead>\n",
       "    <tr style=\"text-align: right;\">\n",
       "      <th></th>\n",
       "      <th>article_link</th>\n",
       "      <th>headline</th>\n",
       "      <th>is_sarcastic</th>\n",
       "      <th>webapp_name</th>\n",
       "    </tr>\n",
       "  </thead>\n",
       "  <tbody>\n",
       "    <tr>\n",
       "      <th>0</th>\n",
       "      <td>https://www.huffingtonpost.com/entry/versace-b...</td>\n",
       "      <td>former versace store clerk sues over secret 'b...</td>\n",
       "      <td>0</td>\n",
       "      <td>huffingtonpost</td>\n",
       "    </tr>\n",
       "    <tr>\n",
       "      <th>1</th>\n",
       "      <td>https://www.huffingtonpost.com/entry/roseanne-...</td>\n",
       "      <td>the 'roseanne' revival catches up to our thorn...</td>\n",
       "      <td>0</td>\n",
       "      <td>huffingtonpost</td>\n",
       "    </tr>\n",
       "    <tr>\n",
       "      <th>2</th>\n",
       "      <td>https://local.theonion.com/mom-starting-to-fea...</td>\n",
       "      <td>mom starting to fear son's web series closest ...</td>\n",
       "      <td>1</td>\n",
       "      <td>theonion</td>\n",
       "    </tr>\n",
       "    <tr>\n",
       "      <th>3</th>\n",
       "      <td>https://politics.theonion.com/boehner-just-wan...</td>\n",
       "      <td>boehner just wants wife to listen, not come up...</td>\n",
       "      <td>1</td>\n",
       "      <td>theonion</td>\n",
       "    </tr>\n",
       "    <tr>\n",
       "      <th>4</th>\n",
       "      <td>https://www.huffingtonpost.com/entry/jk-rowlin...</td>\n",
       "      <td>j.k. rowling wishes snape happy birthday in th...</td>\n",
       "      <td>0</td>\n",
       "      <td>huffingtonpost</td>\n",
       "    </tr>\n",
       "  </tbody>\n",
       "</table>\n",
       "</div>"
      ],
      "text/plain": [
       "                                        article_link  \\\n",
       "0  https://www.huffingtonpost.com/entry/versace-b...   \n",
       "1  https://www.huffingtonpost.com/entry/roseanne-...   \n",
       "2  https://local.theonion.com/mom-starting-to-fea...   \n",
       "3  https://politics.theonion.com/boehner-just-wan...   \n",
       "4  https://www.huffingtonpost.com/entry/jk-rowlin...   \n",
       "\n",
       "                                            headline  is_sarcastic  \\\n",
       "0  former versace store clerk sues over secret 'b...             0   \n",
       "1  the 'roseanne' revival catches up to our thorn...             0   \n",
       "2  mom starting to fear son's web series closest ...             1   \n",
       "3  boehner just wants wife to listen, not come up...             1   \n",
       "4  j.k. rowling wishes snape happy birthday in th...             0   \n",
       "\n",
       "      webapp_name  \n",
       "0  huffingtonpost  \n",
       "1  huffingtonpost  \n",
       "2        theonion  \n",
       "3        theonion  \n",
       "4  huffingtonpost  "
      ]
     },
     "execution_count": 5,
     "metadata": {},
     "output_type": "execute_result"
    }
   ],
   "source": [
    "def webapp_name(x):\n",
    "    return re.findall(r'\\.(.*?)\\.', x)[0]\n",
    "\n",
    "\n",
    "df['webapp_name'] = df['article_link'].apply(webapp_name)\n",
    "df.head()"
   ]
  },
  {
   "cell_type": "code",
   "execution_count": 6,
   "metadata": {},
   "outputs": [
    {
     "data": {
      "text/plain": [
       "webapp_name\n",
       "huffingtonpost    0.561047\n",
       "theonion          0.438953\n",
       "Name: proportion, dtype: float64"
      ]
     },
     "execution_count": 6,
     "metadata": {},
     "output_type": "execute_result"
    }
   ],
   "source": [
    "df['webapp_name'].value_counts(1)"
   ]
  },
  {
   "cell_type": "code",
   "execution_count": 7,
   "metadata": {},
   "outputs": [],
   "source": [
    "# Converting each line to a list\n",
    "sentences = df['headline'].to_list()\n",
    "labels = df['is_sarcastic'].to_list()"
   ]
  },
  {
   "cell_type": "code",
   "execution_count": 8,
   "metadata": {},
   "outputs": [
    {
     "data": {
      "text/plain": [
       "([\"former versace store clerk sues over secret 'black code' for minority shoppers\",\n",
       "  \"the 'roseanne' revival catches up to our thorny political mood, for better and worse\",\n",
       "  \"mom starting to fear son's web series closest thing she will have to grandchild\"],\n",
       " [0, 0, 1])"
      ]
     },
     "execution_count": 8,
     "metadata": {},
     "output_type": "execute_result"
    }
   ],
   "source": [
    "sentences[:3], labels[:3]"
   ]
  },
  {
   "cell_type": "markdown",
   "metadata": {},
   "source": [
    "### 2.Cleaning the Data"
   ]
  },
  {
   "cell_type": "code",
   "execution_count": 9,
   "metadata": {},
   "outputs": [],
   "source": [
    "def clean_data(sentences: List[str]) -> List[str]:\n",
    "    \"\"\"\n",
    "    Perform text cleaning on a list of sentences.\n",
    "\n",
    "    Args:\n",
    "        sentences (List[str]): List of input sentences.\n",
    "\n",
    "    Returns:\n",
    "        List[str]: List of cleaned sentences after applying stemming, lowercasing,\n",
    "                   and removing stopwords.\n",
    "\n",
    "    Note:\n",
    "        This function uses the NLTK library for stemming and stopwords removal.\n",
    "        Make sure to have NLTK installed (`pip install nltk`) and download the\n",
    "        stopwords corpus using `nltk.download('stopwords')`.\n",
    "    \"\"\"\n",
    "    ps = PorterStemmer()\n",
    "    corpus = []\n",
    "\n",
    "    for i in range(len(sentences)):\n",
    "        each_sentence = re.sub('[^a-zA-Z]', ' ', sentences[i])\n",
    "        each_sentence = each_sentence.lower()\n",
    "        each_sentence = each_sentence.split()\n",
    "\n",
    "        each_sentence = [ps.stem(word)\n",
    "                         for word in each_sentence if word not in stopwords.words('english')]\n",
    "        each_sentence = ' '.join(each_sentence)\n",
    "        corpus.append(each_sentence)\n",
    "\n",
    "    return corpus"
   ]
  },
  {
   "cell_type": "markdown",
   "metadata": {},
   "source": [
    "* Each word contains only a to z in alphabets\n",
    "* All stopwords are removed\n",
    "* All words are converted to root word with help of PorterSTemmer"
   ]
  },
  {
   "cell_type": "code",
   "execution_count": 10,
   "metadata": {},
   "outputs": [],
   "source": [
    "clean_sentences = clean_data(sentences)"
   ]
  },
  {
   "cell_type": "code",
   "execution_count": 11,
   "metadata": {},
   "outputs": [
    {
     "data": {
      "text/plain": [
       "['former versac store clerk sue secret black code minor shopper',\n",
       " 'roseann reviv catch thorni polit mood better wors',\n",
       " 'mom start fear son web seri closest thing grandchild']"
      ]
     },
     "execution_count": 11,
     "metadata": {},
     "output_type": "execute_result"
    }
   ],
   "source": [
    "clean_sentences[:3]"
   ]
  },
  {
   "cell_type": "code",
   "execution_count": 12,
   "metadata": {},
   "outputs": [
    {
     "name": "stdout",
     "output_type": "stream",
     "text": [
      "217\n"
     ]
    }
   ],
   "source": [
    "MAX_LENGTH = 0\n",
    "for each_sentence in clean_sentences:\n",
    "    temp_len = len(each_sentence)\n",
    "    if MAX_LENGTH<temp_len:\n",
    "        MAX_LENGTH = temp_len\n",
    "\n",
    "print(MAX_LENGTH)"
   ]
  },
  {
   "cell_type": "markdown",
   "metadata": {},
   "source": [
    "### 3.Train test Split"
   ]
  },
  {
   "cell_type": "code",
   "execution_count": 13,
   "metadata": {},
   "outputs": [],
   "source": [
    "from sklearn.naive_bayes import MultinomialNB\n",
    "from sklearn.model_selection import train_test_split\n",
    "from sklearn.metrics import accuracy_score\n",
    "\n",
    "X_train, X_test, y_train, y_test = train_test_split(\n",
    "    clean_sentences, labels, test_size=0.20, random_state=0, stratify=labels)"
   ]
  },
  {
   "cell_type": "code",
   "execution_count": 14,
   "metadata": {},
   "outputs": [
    {
     "data": {
      "text/plain": [
       "['share hazmat suit maker spike nyc ebola news',\n",
       " 'miss america call u n council promot enough world peac',\n",
       " 'tarsier world smallest primat anim planet looney front part']"
      ]
     },
     "execution_count": 14,
     "metadata": {},
     "output_type": "execute_result"
    }
   ],
   "source": [
    "X_train[:3]"
   ]
  },
  {
   "cell_type": "code",
   "execution_count": 15,
   "metadata": {},
   "outputs": [
    {
     "data": {
      "text/plain": [
       "0    0.561052\n",
       "1    0.438948\n",
       "Name: proportion, dtype: float64"
      ]
     },
     "execution_count": 15,
     "metadata": {},
     "output_type": "execute_result"
    }
   ],
   "source": [
    "pd.Series(y_train).value_counts(1)"
   ]
  },
  {
   "cell_type": "code",
   "execution_count": 16,
   "metadata": {},
   "outputs": [
    {
     "data": {
      "text/plain": [
       "0    0.561026\n",
       "1    0.438974\n",
       "Name: proportion, dtype: float64"
      ]
     },
     "execution_count": 16,
     "metadata": {},
     "output_type": "execute_result"
    }
   ],
   "source": [
    "pd.Series(y_test).value_counts(1)"
   ]
  },
  {
   "cell_type": "markdown",
   "metadata": {},
   "source": [
    "### 4.Tokenization, Sequences and Padding"
   ]
  },
  {
   "cell_type": "code",
   "execution_count": 17,
   "metadata": {},
   "outputs": [],
   "source": [
    "import warnings\n",
    "warnings.filterwarnings('ignore')"
   ]
  },
  {
   "cell_type": "code",
   "execution_count": 18,
   "metadata": {},
   "outputs": [
    {
     "name": "stdout",
     "output_type": "stream",
     "text": [
      "WARNING:tensorflow:From c:\\Users\\91981\\anaconda3\\Lib\\site-packages\\keras\\src\\losses.py:2976: The name tf.losses.sparse_softmax_cross_entropy is deprecated. Please use tf.compat.v1.losses.sparse_softmax_cross_entropy instead.\n",
      "\n"
     ]
    }
   ],
   "source": [
    "import numpy as np\n",
    "import pandas as pd\n",
    "\n",
    "import seaborn as sns\n",
    "import matplotlib.pyplot as plt\n",
    "\n",
    "%matplotlib inline\n",
    "\n",
    "import tensorflow as tf\n",
    "from tensorflow.keras.preprocessing.text import Tokenizer\n",
    "from tensorflow.keras.preprocessing.sequence import pad_sequences"
   ]
  },
  {
   "cell_type": "code",
   "execution_count": 19,
   "metadata": {},
   "outputs": [],
   "source": [
    "# Vocabulary size of the tokenizer\n",
    "VOCAB_SIZE = 10000\n",
    "\n",
    "# Maximum length of clean sentence is  217\n",
    "# Giving 50 as the max length including the padded sequences\n",
    "MAX_LENGTH = 50\n",
    "\n",
    "# Output dimensions of the Embedding layer\n",
    "EMBEDDING_DIM = 16\n",
    "\n",
    "# Parameters for padding and OOV tokens\n",
    "TRUNC_TYPE = 'post'\n",
    "PADDING_TYPE = 'post'\n",
    "OOV_TOKEN = \"<OOV>\""
   ]
  },
  {
   "cell_type": "code",
   "execution_count": 20,
   "metadata": {},
   "outputs": [
    {
     "data": {
      "text/plain": [
       "['share hazmat suit maker spike nyc ebola news',\n",
       " 'miss america call u n council promot enough world peac',\n",
       " 'tarsier world smallest primat anim planet looney front part']"
      ]
     },
     "execution_count": 20,
     "metadata": {},
     "output_type": "execute_result"
    }
   ],
   "source": [
    "X_train[:3]"
   ]
  },
  {
   "cell_type": "code",
   "execution_count": 21,
   "metadata": {},
   "outputs": [],
   "source": [
    "def get_tokenizer(VOCAB_SIZE, OOV_TOKEN, X_data=X_train):\n",
    "    # Initialize the Tokenizer class\n",
    "    tokenizer = Tokenizer(num_words=VOCAB_SIZE, oov_token=OOV_TOKEN)\n",
    "\n",
    "    # Generate the word index dictionary\n",
    "    tokenizer.fit_on_texts(X_data)\n",
    "    \n",
    "    return tokenizer\n",
    "\n",
    "def to_sequences_n_padding(tokenizer,MAX_LENGTH,PADDING_TYPE,TRUNC_TYPE,X_data):\n",
    "    # Generate and pad the training sequences\n",
    "    _sequences = tokenizer.texts_to_sequences(X_data)\n",
    "    _padded = pad_sequences(_sequences, \n",
    "                            maxlen=MAX_LENGTH, \n",
    "                            padding=PADDING_TYPE, \n",
    "                            truncating=TRUNC_TYPE)\n",
    "    \n",
    "    return _padded   "
   ]
  },
  {
   "cell_type": "code",
   "execution_count": 22,
   "metadata": {},
   "outputs": [],
   "source": [
    "tokenizer = get_tokenizer(VOCAB_SIZE=VOCAB_SIZE,OOV_TOKEN=OOV_TOKEN)\n",
    "\n",
    "training_padded = to_sequences_n_padding(tokenizer=tokenizer,\n",
    "                                            MAX_LENGTH=MAX_LENGTH,\n",
    "                                            PADDING_TYPE=PADDING_TYPE,\n",
    "                                            TRUNC_TYPE=TRUNC_TYPE,\n",
    "                                            X_data=X_train)\n",
    "testing_padded = to_sequences_n_padding(tokenizer=tokenizer,\n",
    "                                            MAX_LENGTH=MAX_LENGTH,\n",
    "                                            PADDING_TYPE=PADDING_TYPE,\n",
    "                                            TRUNC_TYPE=TRUNC_TYPE,\n",
    "                                            X_data=X_test)"
   ]
  },
  {
   "cell_type": "code",
   "execution_count": 23,
   "metadata": {},
   "outputs": [],
   "source": [
    "# Convert the labels lists into numpy arrays\n",
    "training_labels = np.array(y_train)\n",
    "testing_labels = np.array(y_test)"
   ]
  },
  {
   "cell_type": "code",
   "execution_count": 24,
   "metadata": {},
   "outputs": [
    {
     "data": {
      "text/plain": [
       "(21367, 50)"
      ]
     },
     "execution_count": 24,
     "metadata": {},
     "output_type": "execute_result"
    }
   ],
   "source": [
    "training_padded.shape"
   ]
  },
  {
   "cell_type": "code",
   "execution_count": 25,
   "metadata": {},
   "outputs": [
    {
     "data": {
      "text/plain": [
       "(5342, 50)"
      ]
     },
     "execution_count": 25,
     "metadata": {},
     "output_type": "execute_result"
    }
   ],
   "source": [
    "testing_padded.shape"
   ]
  },
  {
   "cell_type": "markdown",
   "metadata": {},
   "source": [
    "### 5. Dataset Preparation"
   ]
  },
  {
   "cell_type": "code",
   "execution_count": 26,
   "metadata": {},
   "outputs": [],
   "source": [
    "train_dataset = tf.data.Dataset.from_tensor_slices(\n",
    "    (training_padded, training_labels))\n",
    "train_dataset = (train_dataset\n",
    "                 .shuffle(buffer_size=8, reshuffle_each_iteration=True)\n",
    "                 .batch(32)\n",
    "                 .prefetch(tf.data.AUTOTUNE))"
   ]
  },
  {
   "cell_type": "code",
   "execution_count": 27,
   "metadata": {},
   "outputs": [],
   "source": [
    "test_dataset = tf.data.Dataset.from_tensor_slices(\n",
    "    (testing_padded, testing_labels))\n",
    "test_dataset = (test_dataset\n",
    "                .shuffle(buffer_size=8, reshuffle_each_iteration=True)\n",
    "                .batch(32)\n",
    "                .prefetch(tf.data.AUTOTUNE))"
   ]
  },
  {
   "cell_type": "markdown",
   "metadata": {},
   "source": [
    "### 6. LSTM +BIDIRECTIONAL"
   ]
  },
  {
   "cell_type": "markdown",
   "metadata": {},
   "source": [
    "##### Callbacks"
   ]
  },
  {
   "cell_type": "code",
   "execution_count": 28,
   "metadata": {},
   "outputs": [],
   "source": [
    "early_stopping = tf.keras.callbacks.EarlyStopping(\n",
    "    monitor='val_loss',\n",
    "    min_delta=0.0001,\n",
    "    patience=5,\n",
    "    verbose=0,\n",
    "    mode='auto',\n",
    "    # baseline=None,\n",
    "    restore_best_weights=True,\n",
    "    # start_from_epoch=0\n",
    ")\n",
    "\n",
    "# Saving the best model and its weights to given path\n",
    "checkpoint_filepath = 'models/model_checkpoint_GRU.h5'\n",
    "model_checkpoint_callback = tf.keras.callbacks.ModelCheckpoint(\n",
    "    filepath=checkpoint_filepath,\n",
    "    verbose=1,\n",
    "    # save_weights_only=True,\n",
    "    save_best_only=True,\n",
    "    monitor='val_loss',\n",
    "    mode='auto'\n",
    ")"
   ]
  },
  {
   "cell_type": "markdown",
   "metadata": {},
   "source": [
    "##### Model Training"
   ]
  },
  {
   "cell_type": "code",
   "execution_count": 31,
   "metadata": {},
   "outputs": [],
   "source": [
    "import warnings\n",
    "warnings.filterwarnings('ignore')"
   ]
  },
  {
   "cell_type": "code",
   "execution_count": 32,
   "metadata": {},
   "outputs": [
    {
     "name": "stdout",
     "output_type": "stream",
     "text": [
      "Model: \"sequential_1\"\n",
      "_________________________________________________________________\n",
      " Layer (type)                Output Shape              Param #   \n",
      "=================================================================\n",
      " embedding (Embedding)       (None, 50, 16)            160000    \n",
      "                                                                 \n",
      " bidirectional_2 (Bidirecti  (None, 50, 60)            8640      \n",
      " onal)                                                           \n",
      "                                                                 \n",
      " bidirectional_3 (Bidirecti  (None, 100)               33600     \n",
      " onal)                                                           \n",
      "                                                                 \n",
      " dense32 (Dense)             (None, 120)               12120     \n",
      "                                                                 \n",
      " batch1 (BatchNormalization  (None, 120)               480       \n",
      " )                                                               \n",
      "                                                                 \n",
      " dropout1 (Dropout)          (None, 120)               0         \n",
      "                                                                 \n",
      " dense16 (Dense)             (None, 80)                9680      \n",
      "                                                                 \n",
      " batch2 (BatchNormalization  (None, 80)                320       \n",
      " )                                                               \n",
      "                                                                 \n",
      " dropout2 (Dropout)          (None, 80)                0         \n",
      "                                                                 \n",
      " last_dense1 (Dense)         (None, 1)                 81        \n",
      "                                                                 \n",
      "=================================================================\n",
      "Total params: 224921 (878.60 KB)\n",
      "Trainable params: 224521 (877.04 KB)\n",
      "Non-trainable params: 400 (1.56 KB)\n",
      "_________________________________________________________________\n"
     ]
    }
   ],
   "source": [
    "# Build the model\n",
    "model = tf.keras.Sequential([\n",
    "    tf.keras.layers.Embedding(\n",
    "        VOCAB_SIZE, EMBEDDING_DIM, input_length=MAX_LENGTH, name=\"embedding\"),\n",
    "    tf.keras.layers.Bidirectional(tf.keras.layers.GRU(30, name=\"gru1_30\", return_sequences=True)),\n",
    "    tf.keras.layers.Bidirectional(tf.keras.layers.GRU(50, name=\"gru2_50\", return_sequences=False)),\n",
    "\n",
    "    # tf.keras.layers.Flatten(),\n",
    "\n",
    "    tf.keras.layers.Dense(120, activation='relu', name=\"dense32\"),\n",
    "    tf.keras.layers.BatchNormalization(name=\"batch1\"),\n",
    "    tf.keras.layers.Dropout(0.5, name=\"dropout1\"),\n",
    "\n",
    "    tf.keras.layers.Dense(80, activation='relu', name=\"dense16\"),\n",
    "    tf.keras.layers.BatchNormalization(name=\"batch2\"),\n",
    "    tf.keras.layers.Dropout(0.4, name=\"dropout2\"),\n",
    "\n",
    "\n",
    "    tf.keras.layers.Dense(1, activation='sigmoid', name=\"last_dense1\")\n",
    "])\n",
    "\n",
    "# Print the model summary\n",
    "model.summary()"
   ]
  },
  {
   "cell_type": "code",
   "execution_count": 33,
   "metadata": {},
   "outputs": [],
   "source": [
    "model.compile(optimizer=tf.keras.optimizers.Adam(learning_rate=0.00001),\n",
    "              loss='binary_crossentropy',\n",
    "              metrics=['binary_accuracy'])"
   ]
  },
  {
   "cell_type": "code",
   "execution_count": 34,
   "metadata": {},
   "outputs": [
    {
     "name": "stdout",
     "output_type": "stream",
     "text": [
      "Epoch 1/30\n",
      "WARNING:tensorflow:From c:\\Users\\91981\\anaconda3\\Lib\\site-packages\\keras\\src\\utils\\tf_utils.py:492: The name tf.ragged.RaggedTensorValue is deprecated. Please use tf.compat.v1.ragged.RaggedTensorValue instead.\n",
      "\n",
      "WARNING:tensorflow:From c:\\Users\\91981\\anaconda3\\Lib\\site-packages\\keras\\src\\engine\\base_layer_utils.py:384: The name tf.executing_eagerly_outside_functions is deprecated. Please use tf.compat.v1.executing_eagerly_outside_functions instead.\n",
      "\n",
      "\n",
      "Epoch 1: val_loss improved from inf to 0.68510, saving model to models\\model_checkpoint_GRU.h5\n",
      "668/668 - 50s - loss: 0.8917 - binary_accuracy: 0.5126 - val_loss: 0.6851 - val_binary_accuracy: 0.5489 - 50s/epoch - 75ms/step\n",
      "Epoch 2/30\n",
      "\n",
      "Epoch 2: val_loss did not improve from 0.68510\n",
      "668/668 - 37s - loss: 0.8334 - binary_accuracy: 0.5261 - val_loss: 0.6890 - val_binary_accuracy: 0.5631 - 37s/epoch - 55ms/step\n",
      "Epoch 3/30\n",
      "\n",
      "Epoch 3: val_loss did not improve from 0.68510\n",
      "668/668 - 41s - loss: 0.8160 - binary_accuracy: 0.5340 - val_loss: 0.6853 - val_binary_accuracy: 0.5754 - 41s/epoch - 62ms/step\n",
      "Epoch 4/30\n",
      "\n",
      "Epoch 4: val_loss improved from 0.68510 to 0.67987, saving model to models\\model_checkpoint_GRU.h5\n",
      "668/668 - 35s - loss: 0.7823 - binary_accuracy: 0.5495 - val_loss: 0.6799 - val_binary_accuracy: 0.5756 - 35s/epoch - 52ms/step\n",
      "Epoch 5/30\n",
      "\n",
      "Epoch 5: val_loss improved from 0.67987 to 0.67352, saving model to models\\model_checkpoint_GRU.h5\n",
      "668/668 - 35s - loss: 0.7734 - binary_accuracy: 0.5494 - val_loss: 0.6735 - val_binary_accuracy: 0.5928 - 35s/epoch - 53ms/step\n",
      "Epoch 6/30\n",
      "\n",
      "Epoch 6: val_loss improved from 0.67352 to 0.66734, saving model to models\\model_checkpoint_GRU.h5\n",
      "668/668 - 36s - loss: 0.7578 - binary_accuracy: 0.5583 - val_loss: 0.6673 - val_binary_accuracy: 0.5934 - 36s/epoch - 54ms/step\n",
      "Epoch 7/30\n",
      "\n",
      "Epoch 7: val_loss improved from 0.66734 to 0.66223, saving model to models\\model_checkpoint_GRU.h5\n",
      "668/668 - 39s - loss: 0.7451 - binary_accuracy: 0.5709 - val_loss: 0.6622 - val_binary_accuracy: 0.6045 - 39s/epoch - 58ms/step\n",
      "Epoch 8/30\n",
      "\n",
      "Epoch 8: val_loss improved from 0.66223 to 0.65728, saving model to models\\model_checkpoint_GRU.h5\n",
      "668/668 - 37s - loss: 0.7338 - binary_accuracy: 0.5728 - val_loss: 0.6573 - val_binary_accuracy: 0.6065 - 37s/epoch - 56ms/step\n",
      "Epoch 9/30\n",
      "\n",
      "Epoch 9: val_loss improved from 0.65728 to 0.65208, saving model to models\\model_checkpoint_GRU.h5\n",
      "668/668 - 39s - loss: 0.7198 - binary_accuracy: 0.5799 - val_loss: 0.6521 - val_binary_accuracy: 0.6174 - 39s/epoch - 58ms/step\n",
      "Epoch 10/30\n",
      "\n",
      "Epoch 10: val_loss improved from 0.65208 to 0.65030, saving model to models\\model_checkpoint_GRU.h5\n",
      "668/668 - 37s - loss: 0.7063 - binary_accuracy: 0.5905 - val_loss: 0.6503 - val_binary_accuracy: 0.6207 - 37s/epoch - 55ms/step\n",
      "Epoch 11/30\n",
      "\n",
      "Epoch 11: val_loss improved from 0.65030 to 0.64578, saving model to models\\model_checkpoint_GRU.h5\n",
      "668/668 - 36s - loss: 0.7003 - binary_accuracy: 0.5939 - val_loss: 0.6458 - val_binary_accuracy: 0.6254 - 36s/epoch - 54ms/step\n",
      "Epoch 12/30\n",
      "\n",
      "Epoch 12: val_loss improved from 0.64578 to 0.64150, saving model to models\\model_checkpoint_GRU.h5\n",
      "668/668 - 38s - loss: 0.6902 - binary_accuracy: 0.6029 - val_loss: 0.6415 - val_binary_accuracy: 0.6292 - 38s/epoch - 57ms/step\n",
      "Epoch 13/30\n",
      "\n",
      "Epoch 13: val_loss improved from 0.64150 to 0.63366, saving model to models\\model_checkpoint_GRU.h5\n",
      "668/668 - 35s - loss: 0.6760 - binary_accuracy: 0.6172 - val_loss: 0.6337 - val_binary_accuracy: 0.6329 - 35s/epoch - 52ms/step\n",
      "Epoch 14/30\n",
      "\n",
      "Epoch 14: val_loss improved from 0.63366 to 0.62916, saving model to models\\model_checkpoint_GRU.h5\n",
      "668/668 - 34s - loss: 0.6687 - binary_accuracy: 0.6196 - val_loss: 0.6292 - val_binary_accuracy: 0.6396 - 34s/epoch - 51ms/step\n",
      "Epoch 15/30\n",
      "\n",
      "Epoch 15: val_loss improved from 0.62916 to 0.62408, saving model to models\\model_checkpoint_GRU.h5\n",
      "668/668 - 34s - loss: 0.6626 - binary_accuracy: 0.6310 - val_loss: 0.6241 - val_binary_accuracy: 0.6505 - 34s/epoch - 51ms/step\n",
      "Epoch 16/30\n",
      "\n",
      "Epoch 16: val_loss improved from 0.62408 to 0.62049, saving model to models\\model_checkpoint_GRU.h5\n",
      "668/668 - 36s - loss: 0.6487 - binary_accuracy: 0.6400 - val_loss: 0.6205 - val_binary_accuracy: 0.6492 - 36s/epoch - 54ms/step\n",
      "Epoch 17/30\n",
      "\n",
      "Epoch 17: val_loss improved from 0.62049 to 0.61306, saving model to models\\model_checkpoint_GRU.h5\n",
      "668/668 - 35s - loss: 0.6380 - binary_accuracy: 0.6489 - val_loss: 0.6131 - val_binary_accuracy: 0.6634 - 35s/epoch - 53ms/step\n",
      "Epoch 18/30\n",
      "\n",
      "Epoch 18: val_loss improved from 0.61306 to 0.60903, saving model to models\\model_checkpoint_GRU.h5\n",
      "668/668 - 31s - loss: 0.6295 - binary_accuracy: 0.6561 - val_loss: 0.6090 - val_binary_accuracy: 0.6606 - 31s/epoch - 47ms/step\n",
      "Epoch 19/30\n",
      "\n",
      "Epoch 19: val_loss improved from 0.60903 to 0.60251, saving model to models\\model_checkpoint_GRU.h5\n",
      "668/668 - 32s - loss: 0.6208 - binary_accuracy: 0.6654 - val_loss: 0.6025 - val_binary_accuracy: 0.6694 - 32s/epoch - 48ms/step\n",
      "Epoch 20/30\n",
      "\n",
      "Epoch 20: val_loss improved from 0.60251 to 0.59771, saving model to models\\model_checkpoint_GRU.h5\n",
      "668/668 - 35s - loss: 0.6100 - binary_accuracy: 0.6741 - val_loss: 0.5977 - val_binary_accuracy: 0.6741 - 35s/epoch - 52ms/step\n",
      "Epoch 21/30\n",
      "\n",
      "Epoch 21: val_loss improved from 0.59771 to 0.59104, saving model to models\\model_checkpoint_GRU.h5\n",
      "668/668 - 34s - loss: 0.6008 - binary_accuracy: 0.6760 - val_loss: 0.5910 - val_binary_accuracy: 0.6808 - 34s/epoch - 52ms/step\n",
      "Epoch 22/30\n",
      "\n",
      "Epoch 22: val_loss improved from 0.59104 to 0.58511, saving model to models\\model_checkpoint_GRU.h5\n",
      "668/668 - 33s - loss: 0.5922 - binary_accuracy: 0.6920 - val_loss: 0.5851 - val_binary_accuracy: 0.6868 - 33s/epoch - 49ms/step\n",
      "Epoch 23/30\n",
      "\n",
      "Epoch 23: val_loss improved from 0.58511 to 0.58072, saving model to models\\model_checkpoint_GRU.h5\n",
      "668/668 - 33s - loss: 0.5835 - binary_accuracy: 0.6979 - val_loss: 0.5807 - val_binary_accuracy: 0.6891 - 33s/epoch - 49ms/step\n",
      "Epoch 24/30\n",
      "\n",
      "Epoch 24: val_loss improved from 0.58072 to 0.57337, saving model to models\\model_checkpoint_GRU.h5\n",
      "668/668 - 32s - loss: 0.5715 - binary_accuracy: 0.7078 - val_loss: 0.5734 - val_binary_accuracy: 0.6967 - 32s/epoch - 48ms/step\n",
      "Epoch 25/30\n",
      "\n",
      "Epoch 25: val_loss improved from 0.57337 to 0.56734, saving model to models\\model_checkpoint_GRU.h5\n",
      "668/668 - 33s - loss: 0.5632 - binary_accuracy: 0.7171 - val_loss: 0.5673 - val_binary_accuracy: 0.7025 - 33s/epoch - 49ms/step\n",
      "Epoch 26/30\n",
      "\n",
      "Epoch 26: val_loss improved from 0.56734 to 0.56187, saving model to models\\model_checkpoint_GRU.h5\n",
      "668/668 - 33s - loss: 0.5486 - binary_accuracy: 0.7239 - val_loss: 0.5619 - val_binary_accuracy: 0.7098 - 33s/epoch - 49ms/step\n",
      "Epoch 27/30\n",
      "\n",
      "Epoch 27: val_loss improved from 0.56187 to 0.55576, saving model to models\\model_checkpoint_GRU.h5\n",
      "668/668 - 36s - loss: 0.5353 - binary_accuracy: 0.7352 - val_loss: 0.5558 - val_binary_accuracy: 0.7128 - 36s/epoch - 55ms/step\n",
      "Epoch 28/30\n",
      "\n",
      "Epoch 28: val_loss improved from 0.55576 to 0.55101, saving model to models\\model_checkpoint_GRU.h5\n",
      "668/668 - 37s - loss: 0.5303 - binary_accuracy: 0.7416 - val_loss: 0.5510 - val_binary_accuracy: 0.7153 - 37s/epoch - 56ms/step\n",
      "Epoch 29/30\n",
      "\n",
      "Epoch 29: val_loss improved from 0.55101 to 0.54653, saving model to models\\model_checkpoint_GRU.h5\n",
      "668/668 - 33s - loss: 0.5191 - binary_accuracy: 0.7503 - val_loss: 0.5465 - val_binary_accuracy: 0.7183 - 33s/epoch - 49ms/step\n",
      "Epoch 30/30\n",
      "\n",
      "Epoch 30: val_loss improved from 0.54653 to 0.54145, saving model to models\\model_checkpoint_GRU.h5\n",
      "668/668 - 31s - loss: 0.5062 - binary_accuracy: 0.7588 - val_loss: 0.5415 - val_binary_accuracy: 0.7273 - 31s/epoch - 46ms/step\n"
     ]
    }
   ],
   "source": [
    "history = model.fit(train_dataset,\n",
    "          validation_data=test_dataset,\n",
    "          epochs=30,\n",
    "          verbose=2,\n",
    "          callbacks=[early_stopping, \n",
    "                     model_checkpoint_callback])"
   ]
  },
  {
   "cell_type": "code",
   "execution_count": 35,
   "metadata": {},
   "outputs": [
    {
     "data": {
      "image/png": "[encoded data removed]",
      "text/plain": [
       "<Figure size 1500x500 with 2 Axes>"
      ]
     },
     "metadata": {},
     "output_type": "display_data"
    }
   ],
   "source": [
    "fig, ax = plt.subplots(1, 2, figsize=(15, 5))\n",
    "\n",
    "ax[0].plot(history.history['loss'], label=\"train_loss\")\n",
    "ax[0].plot(history.history['val_loss'], label=\"val_loss\")\n",
    "ax[0].set_title(\"SCE loss function\")\n",
    "ax[0].legend()\n",
    "\n",
    "ax[1].plot(history.history['binary_accuracy'], label=\"train_acc\")\n",
    "ax[1].plot(history.history['val_binary_accuracy'], label=\"val_acc\")\n",
    "ax[1].set_title(\"Accuracy Metric function\")\n",
    "ax[1].legend()\n",
    "plt.tight_layout()\n",
    "plt.show()"
   ]
  }
 ],
 "metadata": {
  "kernelspec": {
   "display_name": "base",
   "language": "python",
   "name": "python3"
  },
  "language_info": {
   "codemirror_mode": {
    "name": "ipython",
    "version": 3
   },
   "file_extension": ".py",
   "mimetype": "text/x-python",
   "name": "python",
   "nbconvert_exporter": "python",
   "pygments_lexer": "ipython3",
   "version": "3.11.5"
  }
 },
 "nbformat": 4,
 "nbformat_minor": 2
}
